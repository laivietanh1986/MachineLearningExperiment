{
  "nbformat": 4,
  "nbformat_minor": 0,
  "metadata": {
    "colab": {
      "name": "MNIST-Dense.ipynb",
      "provenance": [],
      "collapsed_sections": [],
      "include_colab_link": true
    },
    "kernelspec": {
      "name": "python3",
      "display_name": "Python 3"
    },
    "accelerator": "TPU"
  },
  "cells": [
    {
      "cell_type": "markdown",
      "metadata": {
        "id": "view-in-github",
        "colab_type": "text"
      },
      "source": [
        "<a href=\"https://colab.research.google.com/github/laivietanh1986/MachineLearningExperiment/blob/main/MNIST_Dense.ipynb\" target=\"_parent\"><img src=\"https://colab.research.google.com/assets/colab-badge.svg\" alt=\"Open In Colab\"/></a>"
      ]
    },
    {
      "cell_type": "code",
      "metadata": {
        "id": "YFy_9D1TXsIw"
      },
      "source": [
        "#Load MNIST dataset\n",
        "# MNIST dataset has a shape of (70000, 784) meaning there are 70,000 images with 784 dimensions (784 features).\n",
        "from sklearn.datasets import fetch_openml\n",
        "import matplotlib.pyplot as plt\n",
        "mnist = fetch_openml(\"mnist_784\")"
      ],
      "execution_count": null,
      "outputs": []
    },
    {
      "cell_type": "code",
      "metadata": {
        "id": "shi_6h_6X5i6",
        "colab": {
          "base_uri": "https://localhost:8080/"
        },
        "outputId": "02fba86b-815b-47d5-e96a-72bfa0ce820f"
      },
      "source": [
        "from sklearn.model_selection import train_test_split\n",
        "# test_size: what proportion of original data is used for test set\n",
        "train_img, test_img, train_lbl, test_lbl = train_test_split( mnist.data, mnist.target, test_size=1/7.0, random_state=0)\n",
        "train_lbl[0:10]\n",
        "train_img.shape"
      ],
      "execution_count": null,
      "outputs": [
        {
          "output_type": "execute_result",
          "data": {
            "text/plain": [
              "(60000, 784)"
            ]
          },
          "metadata": {},
          "execution_count": 3
        }
      ]
    },
    {
      "cell_type": "code",
      "metadata": {
        "id": "mkFeFXoGa01d",
        "colab": {
          "base_uri": "https://localhost:8080/"
        },
        "outputId": "96870bb7-648a-40ca-f271-b540b114660d"
      },
      "source": [
        "from tensorflow.keras.utils import to_categorical\n",
        "train_onehot_lbl = to_categorical(train_lbl,num_classes=10)\n",
        "test_onehot_lbl = to_categorical(test_lbl,num_classes=10)\n",
        "train_onehot_lbl[0:10]"
      ],
      "execution_count": null,
      "outputs": [
        {
          "output_type": "execute_result",
          "data": {
            "text/plain": [
              "array([[0., 0., 0., 0., 0., 0., 0., 1., 0., 0.],\n",
              "       [0., 0., 0., 1., 0., 0., 0., 0., 0., 0.],\n",
              "       [1., 0., 0., 0., 0., 0., 0., 0., 0., 0.],\n",
              "       [0., 1., 0., 0., 0., 0., 0., 0., 0., 0.],\n",
              "       [0., 0., 1., 0., 0., 0., 0., 0., 0., 0.],\n",
              "       [1., 0., 0., 0., 0., 0., 0., 0., 0., 0.],\n",
              "       [0., 0., 0., 0., 0., 0., 0., 1., 0., 0.],\n",
              "       [0., 0., 0., 0., 0., 0., 1., 0., 0., 0.],\n",
              "       [0., 0., 0., 0., 0., 1., 0., 0., 0., 0.],\n",
              "       [0., 0., 0., 0., 0., 1., 0., 0., 0., 0.]], dtype=float32)"
            ]
          },
          "metadata": {},
          "execution_count": 4
        }
      ]
    },
    {
      "cell_type": "code",
      "metadata": {
        "id": "vU8yeoEVYDAX",
        "colab": {
          "base_uri": "https://localhost:8080/"
        },
        "outputId": "016c14df-63af-470a-8bf1-882debb85e05"
      },
      "source": [
        "import tensorflow as tf\n",
        "from tensorflow.keras.layers import *\n",
        "from tensorflow.keras.models import Model\n",
        "\n",
        "input_layer = Input(shape=(784,))\n",
        "hidden_layer_1 = Dense(300,activation=\"sigmoid\")(input_layer)\n",
        "hidden_layer_2 = Dense(200,activation=\"sigmoid\")(hidden_layer_1)\n",
        "hidden_layer_3 = Dense(100,activation=\"sigmoid\")(hidden_layer_2)\n",
        "\n",
        "dense_layer = Dense(10, activation=\"softmax\")(hidden_layer_3)\n",
        "\n",
        "\n",
        "model = Model(inputs=input_layer, outputs=dense_layer)\n",
        "model.summary()\n",
        "model.compile(loss='categorical_crossentropy', optimizer=\"adam\", metrics=[\"accuracy\"])\n",
        "\n",
        "model.fit(train_img,train_onehot_lbl,validation_data=(test_img,test_onehot_lbl), epochs= 20, batch_size=20)\n"
      ],
      "execution_count": null,
      "outputs": [
        {
          "output_type": "stream",
          "name": "stdout",
          "text": [
            "Model: \"model\"\n",
            "_________________________________________________________________\n",
            " Layer (type)                Output Shape              Param #   \n",
            "=================================================================\n",
            " input_4 (InputLayer)        [(None, 784)]             0         \n",
            "                                                                 \n",
            " dense_12 (Dense)            (None, 300)               235500    \n",
            "                                                                 \n",
            " dense_13 (Dense)            (None, 200)               60200     \n",
            "                                                                 \n",
            " dense_14 (Dense)            (None, 100)               20100     \n",
            "                                                                 \n",
            " dense_15 (Dense)            (None, 10)                1010      \n",
            "                                                                 \n",
            "=================================================================\n",
            "Total params: 316,810\n",
            "Trainable params: 316,810\n",
            "Non-trainable params: 0\n",
            "_________________________________________________________________\n",
            "Epoch 1/20\n",
            "3000/3000 [==============================] - 15s 5ms/step - loss: 0.4915 - accuracy: 0.8538 - val_loss: 0.3338 - val_accuracy: 0.8978\n",
            "Epoch 2/20\n",
            "3000/3000 [==============================] - 14s 5ms/step - loss: 0.3178 - accuracy: 0.9008 - val_loss: 0.3324 - val_accuracy: 0.8965\n",
            "Epoch 3/20\n",
            "3000/3000 [==============================] - 14s 5ms/step - loss: 0.2756 - accuracy: 0.9130 - val_loss: 0.2744 - val_accuracy: 0.9150\n",
            "Epoch 4/20\n",
            "3000/3000 [==============================] - 14s 5ms/step - loss: 0.2482 - accuracy: 0.9214 - val_loss: 0.2679 - val_accuracy: 0.9162\n",
            "Epoch 5/20\n",
            "3000/3000 [==============================] - 14s 5ms/step - loss: 0.2229 - accuracy: 0.9304 - val_loss: 0.2392 - val_accuracy: 0.9235\n",
            "Epoch 6/20\n",
            "3000/3000 [==============================] - 13s 4ms/step - loss: 0.2104 - accuracy: 0.9334 - val_loss: 0.2104 - val_accuracy: 0.9365\n",
            "Epoch 7/20\n",
            "3000/3000 [==============================] - 13s 4ms/step - loss: 0.1964 - accuracy: 0.9373 - val_loss: 0.2141 - val_accuracy: 0.9294\n",
            "Epoch 8/20\n",
            "3000/3000 [==============================] - 13s 4ms/step - loss: 0.1906 - accuracy: 0.9385 - val_loss: 0.2167 - val_accuracy: 0.9307\n",
            "Epoch 9/20\n",
            "3000/3000 [==============================] - 14s 5ms/step - loss: 0.1829 - accuracy: 0.9423 - val_loss: 0.1778 - val_accuracy: 0.9436\n",
            "Epoch 10/20\n",
            "3000/3000 [==============================] - 14s 5ms/step - loss: 0.1609 - accuracy: 0.9490 - val_loss: 0.1740 - val_accuracy: 0.9464\n",
            "Epoch 11/20\n",
            "3000/3000 [==============================] - 14s 5ms/step - loss: 0.1493 - accuracy: 0.9524 - val_loss: 0.1704 - val_accuracy: 0.9483\n",
            "Epoch 12/20\n",
            "3000/3000 [==============================] - 14s 5ms/step - loss: 0.1442 - accuracy: 0.9532 - val_loss: 0.1569 - val_accuracy: 0.9520\n",
            "Epoch 13/20\n",
            "3000/3000 [==============================] - 14s 5ms/step - loss: 0.1393 - accuracy: 0.9548 - val_loss: 0.1635 - val_accuracy: 0.9483\n",
            "Epoch 14/20\n",
            "3000/3000 [==============================] - 13s 4ms/step - loss: 0.1380 - accuracy: 0.9556 - val_loss: 0.1625 - val_accuracy: 0.9495\n",
            "Epoch 15/20\n",
            "3000/3000 [==============================] - 13s 4ms/step - loss: 0.1332 - accuracy: 0.9577 - val_loss: 0.1501 - val_accuracy: 0.9514\n",
            "Epoch 16/20\n",
            "3000/3000 [==============================] - 14s 5ms/step - loss: 0.1264 - accuracy: 0.9593 - val_loss: 0.1525 - val_accuracy: 0.9505\n",
            "Epoch 17/20\n",
            "3000/3000 [==============================] - 14s 5ms/step - loss: 0.1264 - accuracy: 0.9591 - val_loss: 0.1430 - val_accuracy: 0.9551\n",
            "Epoch 18/20\n",
            "3000/3000 [==============================] - 14s 5ms/step - loss: 0.1224 - accuracy: 0.9606 - val_loss: 0.1442 - val_accuracy: 0.9546\n",
            "Epoch 19/20\n",
            "3000/3000 [==============================] - 13s 4ms/step - loss: 0.1212 - accuracy: 0.9604 - val_loss: 0.1385 - val_accuracy: 0.9556\n",
            "Epoch 20/20\n",
            "3000/3000 [==============================] - 14s 5ms/step - loss: 0.1163 - accuracy: 0.9627 - val_loss: 0.1376 - val_accuracy: 0.9568\n"
          ]
        },
        {
          "output_type": "execute_result",
          "data": {
            "text/plain": [
              "<keras.callbacks.History at 0x7f950c763310>"
            ]
          },
          "metadata": {},
          "execution_count": 7
        }
      ]
    },
    {
      "cell_type": "code",
      "metadata": {
        "id": "wWKAx3P6jeIA",
        "colab": {
          "base_uri": "https://localhost:8080/",
          "height": 282
        },
        "outputId": "2e514095-14f2-44b7-d623-38189808cf9a"
      },
      "source": [
        "import numpy as np\n",
        "predict = model.predict(test_img[1:2])\n",
        "img_show = test_img[1:2].to_numpy()\n",
        "plt.imshow(img_show.reshape(28,28),cmap='gray')\n",
        "print(f'predict number {np.argmax(predict)}')"
      ],
      "execution_count": null,
      "outputs": [
        {
          "output_type": "stream",
          "name": "stdout",
          "text": [
            "predict number 4\n"
          ]
        },
        {
          "output_type": "display_data",
          "data": {
            "text/plain": [
              "<Figure size 432x288 with 1 Axes>"
            ],
            "image/png": "[encoded data removed]"
          },
          "metadata": {
            "needs_background": "light"
          }
        }
      ]
    }
  ]
}