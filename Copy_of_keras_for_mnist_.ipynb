{
  "cells": [
    {
      "cell_type": "markdown",
      "metadata": {
        "id": "view-in-github",
        "colab_type": "text"
      },
      "source": [
        "<a href=\"https://colab.research.google.com/github/laivietanh1986/MachineLearningExperiment/blob/main/Copy_of_keras_for_mnist_.ipynb\" target=\"_parent\"><img src=\"https://colab.research.google.com/assets/colab-badge.svg\" alt=\"Open In Colab\"/></a>"
      ]
    },
    {
      "cell_type": "code",
      "execution_count": null,
      "metadata": {
        "id": "wPJYvsPgW2vz"
      },
      "outputs": [],
      "source": [
        "import numpy as np\n",
        "import matplotlib.pyplot as plt\n",
        "from keras.models import Sequential\n",
        "from keras.layers import Dense,Dropout,Activation,Flatten\n",
        "from keras.layers import Conv2D,MaxPooling2D\n",
        "from keras.utils import np_utils\n",
        "from keras.datasets import mnist\n",
        "\n"
      ]
    },
    {
      "cell_type": "code",
      "source": [
        "# load du lieu cho Mnist\n",
        "(X_train,y_train),(X_test,y_test) = mnist.load_data()\n",
        "X_val,y_val = X_train[50000:60000,:],y_train[50000:60000]\n",
        "X_train,y_train=X_train[:50000,:],y_train[:50000]\n",
        "print(X_train.shape)"
      ],
      "metadata": {
        "colab": {
          "base_uri": "https://localhost:8080/"
        },
        "id": "Rej_2yvdZVGO",
        "outputId": "66ba989c-ad15-442a-95c8-4cb4c94852a1"
      },
      "execution_count": null,
      "outputs": [
        {
          "output_type": "stream",
          "name": "stdout",
          "text": [
            "Downloading data from https://storage.googleapis.com/tensorflow/tf-keras-datasets/mnist.npz\n",
            "11493376/11490434 [==============================] - 0s 0us/step\n",
            "11501568/11490434 [==============================] - 0s 0us/step\n",
            "(50000, 28, 28)\n"
          ]
        }
      ]
    },
    {
      "cell_type": "code",
      "source": [
        "# reshape lai du lieu cho dung kich thuoc ma keras yeu cau \n",
        "# dữ liệu input cho môn hình CNN là 1 tensor 4 chiều (N,W,H,D). trong bài này là ảnh xám nên W=H= 28 , D =1 \n",
        "# N= số lượng ảnh mỗi lần train . ta thấy shape của X_Train là (N, W,H) ta cần reshape lại là (N,W,H,1)\n",
        "# thỏa mãn kích thuốc keras  yêu cầu \n",
        "\n",
        "X_train = X_train.reshape(X_train.shape[0],28,28,1)\n",
        "X_val = X_val.reshape(X_val.shape[0],28,28,1)\n",
        "X_test= X_test.reshape(X_test.shape[0],28,28,1)\n",
        "print (X_train.shape)"
      ],
      "metadata": {
        "id": "8AFJuCu7YNhx",
        "colab": {
          "base_uri": "https://localhost:8080/"
        },
        "outputId": "07f67656-f03b-47bb-e8df-de2c3d87e3c5"
      },
      "execution_count": null,
      "outputs": [
        {
          "output_type": "stream",
          "name": "stdout",
          "text": [
            "(50000, 28, 28, 1)\n"
          ]
        }
      ]
    },
    {
      "cell_type": "code",
      "source": [
        "# One  hot encoding label (Y)\n",
        "# vi du so 5 thanh vectot [0,0,0,0,0,1,0,0,0,0]\n",
        "y_train = np_utils.to_categorical(y_train,10)\n",
        "y_val = np_utils.to_categorical(y_val,10)\n",
        "y_test = np_utils.to_categorical(y_test,10)\n",
        "\n",
        "\n"
      ],
      "metadata": {
        "id": "zMvCCMpWbpqr"
      },
      "execution_count": null,
      "outputs": []
    },
    {
      "cell_type": "markdown",
      "source": [
        " định nghĩa model \n",
        "1. Model = Sequence() => cho keras biết là chúng ta sắp xếp các layer để tạo model . ví dụ input > CONV \n",
        " -> POOL -> CONV -> POOL -> FLATTEN -> FC -> OUTPUT \n",
        "2.ở input đầu tiên cần chỉ rõ input shape của anh , input_shape = (W,H,D) ta dùng ảnh xám (28,28) nên input_shape = (28,28,1)\n",
        "3. khi thêm Convolutional layer ta cần chỉ rõ các tham số K( số lượng layer), kernel size (W,H) , hàm \n",
        "activation sử dụng , cấu trúc model.add(Conv2D(K,(W,H),activation='ten_ham_activation'))\n",
        "4. khi thêm Maxpooling layer cần chỉ rõ size của kernel , model.add(MaxPooling2D(poolSize=(W,H)))\n",
        "5. Flatten chuyển từ tensor sang vector chỉ cần thêm Flatten layer\n",
        "6. Để thêm Fully Connected layer (FC) cần chỉ rõ số lượng node trong leyer và hàm activation sử dụng trong layer\n",
        "cấu trúc model.add(Dense(so_luong_node activation='ten_ham_activate'))"
      ],
      "metadata": {
        "id": "kVl0MuulShIX"
      }
    },
    {
      "cell_type": "code",
      "source": [
        "# định nghĩa model \n",
        "model = Sequential()\n",
        "# thêm convolutional layer với 32 kernel , kích thước kernel 3*3 \n",
        "# dùng hàm sigmoil làm activation và chỉ rõ input_shape cho layer đầu tiên \n",
        "model.add(Conv2D(32,(3,3),activation='sigmoid',input_shape=(28,28,1)))\n",
        "# thêm convolutional layer \n",
        "model.add(Conv2D(32,(3,3),activation='sigmoid'))\n",
        "# thêm max pooling layer \n",
        "model.add(MaxPooling2D(pool_size=(2,2)))\n",
        "#Flatten layer chuyển từ tensor qua vector \n",
        "model.add(Flatten())\n",
        "# thêm fully connected layer với 128 nodes và dùng hàm sigmoid \n",
        "model.add(Dense(128,activation='sigmoid'))\n",
        "# output layer với 10 node và dùng hàm softmax function chuyển qua xác suất \n",
        "model.add(Dense(10,activation='softmax'))\n"
      ],
      "metadata": {
        "id": "msv99yh4St9I"
      },
      "execution_count": 5,
      "outputs": []
    },
    {
      "cell_type": "code",
      "source": [
        "# 6 compile model , chỉ rõ dùng  hàm loss_fuction nào được sử dụng, phương thức dùng tối ưu  hafmg loss\n",
        "model.compile(loss='categorical_crossentropy',\n",
        "              optimizer='adam',metrics=['accuracy'])"
      ],
      "metadata": {
        "id": "AanKtn84_Ttn"
      },
      "execution_count": 6,
      "outputs": []
    },
    {
      "cell_type": "code",
      "source": [
        "#7 thực hiện train model với data \n",
        "H= model.fit(X_train,y_train,validation_data=(X_val,y_val),batch_size=32,epochs=10,verbose=1 )"
      ],
      "metadata": {
        "id": "zn6Od4ct_xNG",
        "colab": {
          "base_uri": "https://localhost:8080/"
        },
        "outputId": "7f2e7a94-22fe-44b8-b9d1-02031e2d0c2a"
      },
      "execution_count": 7,
      "outputs": [
        {
          "output_type": "stream",
          "name": "stdout",
          "text": [
            "Epoch 1/10\n",
            "1563/1563 [==============================] - 97s 62ms/step - loss: 0.2725 - accuracy: 0.9204 - val_loss: 0.0723 - val_accuracy: 0.9811\n",
            "Epoch 2/10\n",
            "1563/1563 [==============================] - 96s 61ms/step - loss: 0.0613 - accuracy: 0.9822 - val_loss: 0.0502 - val_accuracy: 0.9859\n",
            "Epoch 3/10\n",
            "1563/1563 [==============================] - 96s 61ms/step - loss: 0.0390 - accuracy: 0.9889 - val_loss: 0.0456 - val_accuracy: 0.9875\n",
            "Epoch 4/10\n",
            "1563/1563 [==============================] - 96s 61ms/step - loss: 0.0270 - accuracy: 0.9920 - val_loss: 0.0586 - val_accuracy: 0.9834\n",
            "Epoch 5/10\n",
            "1563/1563 [==============================] - 96s 62ms/step - loss: 0.0177 - accuracy: 0.9953 - val_loss: 0.0462 - val_accuracy: 0.9858\n",
            "Epoch 6/10\n",
            "1563/1563 [==============================] - 96s 62ms/step - loss: 0.0115 - accuracy: 0.9972 - val_loss: 0.0513 - val_accuracy: 0.9843\n",
            "Epoch 7/10\n",
            "1563/1563 [==============================] - 96s 62ms/step - loss: 0.0086 - accuracy: 0.9977 - val_loss: 0.0456 - val_accuracy: 0.9867\n",
            "Epoch 8/10\n",
            "1563/1563 [==============================] - 96s 62ms/step - loss: 0.0066 - accuracy: 0.9982 - val_loss: 0.0428 - val_accuracy: 0.9879\n",
            "Epoch 9/10\n",
            "1563/1563 [==============================] - 96s 61ms/step - loss: 0.0037 - accuracy: 0.9992 - val_loss: 0.0529 - val_accuracy: 0.9858\n",
            "Epoch 10/10\n",
            "1563/1563 [==============================] - 97s 62ms/step - loss: 0.0037 - accuracy: 0.9992 - val_loss: 0.0424 - val_accuracy: 0.9900\n"
          ]
        }
      ]
    },
    {
      "cell_type": "code",
      "source": [
        "# ve do thi loss , accuracy cua trainning set vaf validation set \n",
        "fig = plt.figure()\n",
        "numOfEpoch = 10 \n",
        "plt.plot(np.arange(0,numOfEpoch),H.history['loss'],label='trainning loss')\n",
        "plt.plot(np.arange(0,numOfEpoch),H.history['val_loss'],label='validation loss')\n",
        "plt.plot(np.arange(0,numOfEpoch),H.history['accuracy'],label='accuracy')\n",
        "plt.plot(np.arange(0,numOfEpoch),H.history['val_accuracy'],label='validation accuracy')\n",
        "plt.title('Accuracy and loss')\n",
        "plt.xlabel('Epoch')\n",
        "plt.ylabel('Loss/Accuracy')\n",
        "plt.legend()\n"
      ],
      "metadata": {
        "id": "rjjaNjQJDqtS",
        "colab": {
          "base_uri": "https://localhost:8080/",
          "height": 312
        },
        "outputId": "5e6885ed-5f3a-4d8b-ade4-54caa992fb6f"
      },
      "execution_count": 14,
      "outputs": [
        {
          "output_type": "execute_result",
          "data": {
            "text/plain": [
              "<matplotlib.legend.Legend at 0x7f75feb02f10>"
            ]
          },
          "metadata": {},
          "execution_count": 14
        },
        {
          "output_type": "display_data",
          "data": {
            "text/plain": [
              "<Figure size 432x288 with 1 Axes>"
            ],
            "image/png": "[encoded data removed]"
          },
          "metadata": {
            "needs_background": "light"
          }
        }
      ]
    },
    {
      "cell_type": "code",
      "source": [
        "#9 Đánh giá model với dữ liệu test \n",
        "score = model.evaluate(X_test,y_test,verbose=0)\n",
        "print(score)"
      ],
      "metadata": {
        "colab": {
          "base_uri": "https://localhost:8080/"
        },
        "id": "jiG0Z8nvMHOl",
        "outputId": "7703a11f-1189-4ed7-d0b1-63c6ad69b2fc"
      },
      "execution_count": 15,
      "outputs": [
        {
          "output_type": "stream",
          "name": "stdout",
          "text": [
            "[0.03378794342279434, 0.9904999732971191]\n"
          ]
        }
      ]
    },
    {
      "cell_type": "code",
      "source": [
        "#10 dự đoán anh \n",
        "plt.imshow(X_test[1].reshape(28,28),cmap='gray')\n",
        "y_predict = model.predict(X_test[1].reshape(1,28,28,1))\n",
        "print('gia tri du doan ',np.argmax(y_predict))"
      ],
      "metadata": {
        "colab": {
          "base_uri": "https://localhost:8080/",
          "height": 282
        },
        "id": "_K8ryJFPMiN9",
        "outputId": "adbc375d-0a9c-472e-9f47-71c5d2c39b8e"
      },
      "execution_count": 16,
      "outputs": [
        {
          "output_type": "stream",
          "name": "stdout",
          "text": [
            "gia tri du doan  2\n"
          ]
        },
        {
          "output_type": "display_data",
          "data": {
            "text/plain": [
              "<Figure size 432x288 with 1 Axes>"
            ],
            "image/png": "[encoded data removed]"
          },
          "metadata": {
            "needs_background": "light"
          }
        }
      ]
    }
  ],
  "metadata": {
    "language_info": {
      "name": "python"
    },
    "orig_nbformat": 4,
    "colab": {
      "name": "Copy of keras_for_mnist..ipynb",
      "provenance": [],
      "collapsed_sections": [],
      "include_colab_link": true
    },
    "kernelspec": {
      "name": "python3",
      "display_name": "Python 3"
    }
  },
  "nbformat": 4,
  "nbformat_minor": 0
}