{
 "cells": [
  {
   "cell_type": "code",
   "execution_count": 4,
   "metadata": {},
   "outputs": [
    {
     "name": "stdout",
     "output_type": "stream",
     "text": [
      "[[  30.      448.524 ]\n",
      " [  32.4138  509.248 ]\n",
      " [  34.8276  535.104 ]\n",
      " [  37.2414  551.432 ]\n",
      " [  39.6552  623.418 ]\n",
      " [  42.069   625.992 ]\n",
      " [  44.4828  655.248 ]\n",
      " [  46.8966  701.377 ]\n",
      " [  49.3103  748.918 ]\n",
      " [  51.7241  757.881 ]\n",
      " [  54.1379  831.004 ]\n",
      " [  56.5517  855.409 ]\n",
      " [  58.9655  866.707 ]\n",
      " [  61.3793  902.545 ]\n",
      " [  63.7931  952.261 ]\n",
      " [  66.2069  995.531 ]\n",
      " [  68.6207 1069.78  ]\n",
      " [  71.0345 1074.42  ]\n",
      " [  73.4483 1103.88  ]\n",
      " [  75.8621 1138.69  ]\n",
      " [  78.2759 1153.13  ]\n",
      " [  80.6897 1240.27  ]\n",
      " [  83.1034 1251.9   ]\n",
      " [  85.5172 1287.97  ]\n",
      " [  87.931  1320.47  ]\n",
      " [  90.3448 1374.92  ]\n",
      " [  92.7586 1410.16  ]\n",
      " [  95.1724 1469.69  ]\n",
      " [  97.5862 1478.54  ]\n",
      " [ 100.     1515.28  ]]\n"
     ]
    }
   ],
   "source": [
    "import numpy as np\n",
    "import pandas as pd\n",
    "import matplotlib.pyplot as plt\n",
    "\n",
    "data  = pd.read_csv('data_linear.csv').values\n",
    "\n"
   ]
  },
  {
   "cell_type": "code",
   "execution_count": 12,
   "metadata": {},
   "outputs": [
    {
     "data": {
      "image/png": "[encoded data removed]",
      "text/plain": [
       "<Figure size 432x288 with 1 Axes>"
      ]
     },
     "metadata": {
      "needs_background": "light"
     },
     "output_type": "display_data"
    }
   ],
   "source": [
    "#  get count row\n",
    "N = data.shape[0]\n",
    "# get all data on column 0 => chuyen thanh cot \n",
    "x = data[:,0].reshape(-1,1)\n",
    "# get all data on column 1 => chuyen thanh cot\n",
    "y = data[:,1].reshape(-1,1)\n",
    "# bieu dien tren do thi \n",
    "plt.scatter(x,y)\n",
    "plt.xlabel(\"met vuong\")\n",
    "plt.ylabel('gia')\n",
    "plt.show()\n",
    "\n"
   ]
  },
  {
   "cell_type": "code",
   "execution_count": 19,
   "metadata": {},
   "outputs": [
    {
     "name": "stdout",
     "output_type": "stream",
     "text": [
      "[[0.]\n",
      " [1.]]\n"
     ]
    }
   ],
   "source": [
    "# noi duoi 2 dong n so 1 va gia tri x \n",
    "x = np.hstack((np.ones((N,1)),x))\n",
    "w = np.array([0.,1.]).reshape(-1,1)\n",
    "print(w)\n",
    "\n"
   ]
  },
  {
   "cell_type": "code",
   "execution_count": 23,
   "metadata": {},
   "outputs": [
    {
     "name": "stdout",
     "output_type": "stream",
     "text": [
      "[13929116.42245086]\n",
      "[10306023.05204818]\n",
      "[7625585.53074049]\n",
      "[5642543.81163118]\n",
      "[4175449.56729842]\n",
      "[3090063.66690631]\n",
      "[2287073.29504552]\n",
      "[1693004.82861436]\n",
      "[1253500.99992857]\n",
      "[928347.20644961]\n",
      "[687791.87444632]\n",
      "[509824.18984606]\n",
      "[378160.10863432]\n",
      "[280752.36674388]\n",
      "[208688.15533097]\n",
      "[155373.59872037]\n",
      "[115930.41474736]\n",
      "[86749.55191465]\n",
      "[65160.96116185]\n",
      "[49189.28636281]\n",
      "[37373.11922991]\n",
      "[28631.28044829]\n",
      "[22163.89176298]\n",
      "[17379.18711448]\n",
      "[13839.36604128]\n",
      "[11220.53493539]\n",
      "[9283.07077554]\n",
      "[7849.69561952]\n",
      "[6789.25567156]\n",
      "[6004.72070933]\n",
      "[5424.30581811]\n",
      "[4994.90307071]\n",
      "[4677.22215191]\n",
      "[4442.19529433]\n",
      "[4268.31757766]\n",
      "[4139.67922826]\n",
      "[4044.50987485]\n",
      "[3974.10155945]\n",
      "[3922.01195918]\n",
      "[3883.47491369]\n",
      "[3854.96432147]\n",
      "[3833.87150151]\n",
      "[3818.26649903]\n",
      "[3806.72149456]\n",
      "[3798.18015848]\n",
      "[3791.86099682]\n",
      "[3787.1858446]\n",
      "[3783.72696372]\n",
      "[3781.16790489]\n",
      "[3779.27455256]\n",
      "[3777.87370332]\n",
      "[3776.83721779]\n",
      "[3776.07029588]\n",
      "[3775.50280258]\n",
      "[3775.08285058]\n",
      "[3774.77205262]\n",
      "[3774.542009]\n",
      "[3774.37170909]\n",
      "[3774.24560877]\n",
      "[3774.15220819]\n",
      "[3774.08299956]\n",
      "[3774.03168861]\n",
      "[3773.99361872]\n",
      "[3773.96534485]\n",
      "[3773.94431826]\n",
      "[3773.92865335]\n",
      "[3773.91695514]\n",
      "[3773.90819156]\n",
      "[3773.90159908]\n",
      "[3773.89661282]\n",
      "[3773.89281489]\n",
      "[3773.8898961]\n",
      "[3773.88762772]\n",
      "[3773.88584052]\n",
      "[3773.88440932]\n",
      "[3773.88324148]\n",
      "[3773.88226849]\n",
      "[3773.88143966]\n",
      "[3773.88071747]\n",
      "[3773.88007418]\n",
      "[3773.87948927]\n",
      "[3773.87894754]\n",
      "[3773.87843777]\n",
      "[3773.87795163]\n",
      "[3773.87748298]\n",
      "[3773.87702727]\n",
      "[3773.87658113]\n",
      "[3773.87614207]\n",
      "[3773.87570826]\n",
      "[3773.87527832]\n",
      "[3773.87485126]\n",
      "[3773.87442631]\n",
      "[3773.87400294]\n",
      "[3773.87358073]\n",
      "[3773.87315939]\n",
      "[3773.87273868]\n",
      "[3773.87231844]\n",
      "[3773.87189856]\n",
      "[3773.87147893]\n"
     ]
    },
    {
     "data": {
      "text/plain": [
       "<function matplotlib.pyplot.show(close=None, block=None)>"
      ]
     },
     "execution_count": 23,
     "metadata": {},
     "output_type": "execute_result"
    },
    {
     "data": {
      "image/png": "[encoded data removed]",
      "text/plain": [
       "<Figure size 432x288 with 1 Axes>"
      ]
     },
     "metadata": {
      "needs_background": "light"
     },
     "output_type": "display_data"
    }
   ],
   "source": [
    "numberOfIteration=100\n",
    "cost = np.zeros((numberOfIteration,1))\n",
    "learningRate = 0.000001\n",
    "for i  in range(1,numberOfIteration):\n",
    "    r = np.dot(x,w) - y\n",
    "    cost[i]=0.5* np.sum(r*r)\n",
    "    w[0] -= learningRate*np.sum(r)\n",
    "    w[1] -= learningRate* np.sum(np.multiply(r,x[:,1].reshape(-1,1)))\n",
    "    print(cost[i])\n",
    "predict=np.dot(x,w)\n",
    "plt.plot((x[0][1],x[N-1][1]),(predict[0],predict[N-1]),'r')\n",
    "plt.show\n"
   ]
  },
  {
   "cell_type": "code",
   "execution_count": 24,
   "metadata": {},
   "outputs": [
    {
     "name": "stdout",
     "output_type": "stream",
     "text": [
      "gia nha cho 50^2 la [755.69627339]\n"
     ]
    }
   ],
   "source": [
    "# du doan \n",
    "x1=50\n",
    "y1=w[0]+w[1]*x1\n",
    "print(f'gia nha cho {x1}^2 la {y1}')"
   ]
  },
  {
   "cell_type": "code",
   "execution_count": null,
   "metadata": {},
   "outputs": [],
   "source": []
  }
 ],
 "metadata": {
  "interpreter": {
   "hash": "77b34d89c9eb91d6555c5ad58b72beccca36bcb8c80b821caf62a923f790f8b6"
  },
  "kernelspec": {
   "display_name": "Python 3.9.12 ('MachineLearning')",
   "language": "python",
   "name": "python3"
  },
  "language_info": {
   "codemirror_mode": {
    "name": "ipython",
    "version": 3
   },
   "file_extension": ".py",
   "mimetype": "text/x-python",
   "name": "python",
   "nbconvert_exporter": "python",
   "pygments_lexer": "ipython3",
   "version": "3.9.12"
  },
  "orig_nbformat": 4
 },
 "nbformat": 4,
 "nbformat_minor": 2
}
